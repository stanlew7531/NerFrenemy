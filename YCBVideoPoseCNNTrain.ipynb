{
 "cells": [
  {
   "cell_type": "code",
   "execution_count": 1,
   "metadata": {},
   "outputs": [],
   "source": [
    "%%capture\n",
    "%matplotlib inline\n",
    "import sys\n",
    "sys.path.insert(1, './PoseCNN-PyTorch/lib')\n",
    "from datasets.factory import get_dataset\n",
    "from fcn.config import cfg, cfg_from_file, yaml_from_file, get_output_dir\n",
    "from fcn.test_imageset import test_image\n",
    "from ycb_renderer import YCBRenderer\n",
    "from get_available_devices import *\n",
    "import torch\n",
    "import numpy as np\n",
    "import torch\n",
    "import torch.nn.parallel \n",
    "import torch.backends.cudnn as cudnn \n",
    "import networks\n",
    "from utils.nms import *\n",
    "import matplotlib.pyplot as plt\n",
    "plt.rcParams['figure.figsize'] = [18, 9]\n",
    "from utils.blob import pad_im, chromatic_transform, add_noise\n",
    "from transforms3d.quaternions import mat2quat, quat2mat\n",
    "from utils.se3 import *\n",
    "from utils.pose_error import *\n",
    "import yaml\n",
    "import torch\n",
    "import numpy as np\n",
    "import matplotlib.pyplot as plt\n",
    "from scipy.spatial.transform import Rotation as R\n",
    "from tqdm import tqdm\n",
    "from torch.utils.tensorboard import SummaryWriter\n",
    "\n",
    "\n",
    "from ProgressNerf.Dataloading.YCBVideoDataloader import YCBVideoDataloader\n",
    "# import ProgressNerf.Dataloading.ToolsPartsDataloader\n",
    "\n",
    "import ProgressNerf.Raycasting.VoxelGridBBoxRaysampler\n",
    "import ProgressNerf.Raycasting.RandomRaypicker\n",
    "import ProgressNerf.Raycasting.NearFarRaysampler\n",
    "import ProgressNerf.Raycasting.WeightedRaypicker\n",
    "import ProgressNerf.Raycasting.PerturbedRaysampler\n",
    "\n",
    "import ProgressNerf.NeuralRendering.NeuralRenderer\n",
    "# import ProgressNerf.NeuralRendering.VoxelNeuralRenderer\n",
    "\n",
    "import ProgressNerf.Encoders.PositionalEncoder\n",
    "\n",
    "# import ProgressNerf.Models.OGNerf\n",
    "# from ProgressNerf.Architectures.OGNerfArch import OGNerfArch\n",
    "import ProgressNerf.Models.FastNerf\n",
    "from ProgressNerf.Architectures.VoxelGridCachedNerf import VoxelGridCachedNerf\n",
    "\n",
    "from ProgressNerf.Utils.CameraUtils import BuildCameraMatrix\n",
    "from fcn.train import loss_cross_entropy, smooth_l1_loss"
   ]
  },
  {
   "cell_type": "code",
   "execution_count": 2,
   "metadata": {},
   "outputs": [],
   "source": [
    "os.environ['CUDA_LAUNCH_BLOCKING'] = '1'\n",
    "base_dir = \"./output_data/\"\n",
    "if(not os.path.exists(base_dir)):\n",
    "            os.makedirs(base_dir)\n",
    "tb_writer = SummaryWriter(log_dir=str(base_dir))"
   ]
  },
  {
   "cell_type": "markdown",
   "metadata": {},
   "source": [
    "# Setup Dataloader & Metadata for PoseCNN"
   ]
  },
  {
   "cell_type": "code",
   "execution_count": 18,
   "metadata": {},
   "outputs": [
    {
     "name": "stderr",
     "output_type": "stream",
     "text": [
      "libEGL warning: DRI2: failed to create dri screen\n",
      "libEGL warning: DRI2: failed to create dri screen\n",
      "Unable to initialize EGL\n",
      "libEGL warning: DRI2: failed to create dri screen\n",
      "libEGL warning: DRI2: failed to create dri screen\n",
      "Unable to initialize EGL\n"
     ]
    }
   ],
   "source": [
    "%%capture\n",
    "cfg_from_file(\"./PoseCNN-PyTorch/experiments/cfgs/ycb_object.yml\")\n",
    "meta = yaml_from_file(\"./PoseCNN-PyTorch/data/demo/meta.yml\")\n",
    "dataset = get_dataset(\"ycb_object_test\")\n",
    "cfg.renderer = YCBRenderer(width=cfg.TRAIN.SYN_WIDTH, height=cfg.TRAIN.SYN_HEIGHT, gpu_id=0, render_marker=False)\n",
    "\n",
    "worker_init_fn = dataset.worker_init_fn if hasattr(dataset, 'worker_init_fn') else None\n",
    "num_workers = 0 if cfg.TRAIN.SYNTHESIZE else 4\n",
    "dataloader = torch.utils.data.DataLoader(dataset, \n",
    "                    batch_size=1,  #cfg.TRAIN.IMS_PER_BATCH, \n",
    "                    shuffle=True, \n",
    "                    num_workers=num_workers, \n",
    "                    worker_init_fn=worker_init_fn)"
   ]
  },
  {
   "cell_type": "code",
   "execution_count": 19,
   "metadata": {},
   "outputs": [
    {
     "name": "stdout",
     "output_type": "stream",
     "text": [
      "number of devices found 5\n",
      "Loaded EGL 1.5 after reload.\n"
     ]
    }
   ],
   "source": [
    "%%capture\n",
    "if cfg.TEST.SYNTHESIZE:\n",
    "    cfg.renderer.load_objects(dataset.model_mesh_paths, dataset.model_texture_paths, dataset.model_colors)\n",
    "else:\n",
    "    model_mesh_paths = [dataset.model_mesh_paths[i-1] for i in cfg.TEST.CLASSES[1:]]\n",
    "    model_texture_paths = [dataset.model_texture_paths[i-1] for i in cfg.TEST.CLASSES[1:]]\n",
    "    model_colors = [dataset.model_colors[i-1] for i in cfg.TEST.CLASSES[1:]]\n",
    "    cfg.renderer.load_objects(model_mesh_paths, model_texture_paths, model_colors)\n",
    "\n",
    "cfg.renderer.set_camera_default()\n",
    "cfg.TEST.POSE_REFINE = False\n",
    "cfg.TEST.VISUALIZE = False \n",
    "cfg.TRAIN.VERTEX_REG = True\n",
    "cfg.TRAIN.POSE_REG = True\n",
    "\n",
    "cfg.MODE = 'TEST'\n",
    "\n",
    "cfg.gpu_id = 0\n",
    "cfg.device = torch.device('cuda:{:d}'.format(cfg.gpu_id))\n",
    "cfg.instance_id = 0"
   ]
  },
  {
   "cell_type": "markdown",
   "metadata": {},
   "source": [
    "# Setup Dataloader for our optimization"
   ]
  },
  {
   "cell_type": "code",
   "execution_count": 27,
   "metadata": {},
   "outputs": [],
   "source": [
    "config_dict = { \"baseDataDir\": \"/home/stanlew/data/ycb-video/tool-parts_dataset/\",\\\n",
    "               \"scenes\": [\"0036\",\"0037\",\"0044\",\"0060\",\"0066\",\"0068\",\"0076\",\"0079\",\"0087\",\"0089\"],\\\n",
    "               \"datasetType\": \"train\",\\\n",
    "               \"samplesLimit\": -1,\\\n",
    "               \"rel_tools\": [\"04\"]}\n",
    "progNerfDataloader = torch.utils.data.DataLoader(YCBVideoDataloader(config_dict),\\\n",
    "                                                 batch_size = 1,\\\n",
    "                                                 shuffle=True,\\\n",
    "                                                 num_workers = 1)"
   ]
  },
  {
   "cell_type": "markdown",
   "metadata": {},
   "source": [
    "# Load PoseCNN Network"
   ]
  },
  {
   "cell_type": "code",
   "execution_count": 6,
   "metadata": {},
   "outputs": [],
   "source": [
    "%%capture\n",
    "pretrained = \"./PoseCNN-PyTorch/data/checkpoints/ycb_object/vgg16_ycb_object_self_supervision_epoch_8.checkpoint.pth\"\n",
    "\n",
    "cfg.TRAIN.FREEZE_LAYERS = False\n",
    "num_classes = dataset.num_classes\n",
    "gpu_id = 1\n",
    "network_data = torch.load(pretrained, map_location = \"cpu\")\n",
    "network = networks.__dict__[\"posecnn\"](num_classes, 64, network_data).to(cfg.device)\n",
    "network = torch.nn.DataParallel(network, device_ids=[cfg.gpu_id]).to(cfg.device)\n",
    "cudnn.benchmark = True\n",
    "network.eval()"
   ]
  },
  {
   "cell_type": "markdown",
   "metadata": {},
   "source": [
    "# Setup NeRF Model"
   ]
  },
  {
   "cell_type": "code",
   "execution_count": 7,
   "metadata": {
    "scrolled": true
   },
   "outputs": [
    {
     "name": "stdout",
     "output_type": "stream",
     "text": [
      "loading config at ./ycbVideo_Soup.yml\n",
      "parsing config\n",
      "initializing optimizer\n",
      "loading model  & optimizer params from /home/stanlew/Documents/ProgressNerfModels/ycb_video/soup_can_6/epoch_200\n",
      "resuming training from epoch 201...\n"
     ]
    }
   ],
   "source": [
    "config_file = \"./ycbVideo_Soup.yml\"\n",
    "arch = VoxelGridCachedNerf(config_file)"
   ]
  },
  {
   "cell_type": "markdown",
   "metadata": {},
   "source": [
    "# Loop Over Data"
   ]
  },
  {
   "cell_type": "code",
   "execution_count": 8,
   "metadata": {},
   "outputs": [],
   "source": [
    "def getVisualizedImg(sample_img):\n",
    "    return (sample_img[0].permute(1,2,0) + 1.0 / 2.0).cpu().numpy()\n",
    "\n",
    "def run_net(network, dataset, im_color, device):\n",
    "    im_color.to(device)\n",
    "    \n",
    "    K = dataset._intrinsic_matrix\n",
    "    K[2, 2] = 1\n",
    "    Kinv = np.linalg.pinv(K)\n",
    "    meta_data = np.zeros((1, 18), dtype=np.float32)\n",
    "    meta_data[0, 0:9] = K.flatten()\n",
    "    meta_data[0, 9:18] = Kinv.flatten()\n",
    "    meta_data = torch.from_numpy(meta_data).to(device).contiguous()\n",
    "    \n",
    "    out_prob, out_label, out_vertex, rois, out_pose, out_quaternion =\\\n",
    "        network(im_color, dataset.input_labels.contiguous(), meta_data, \\\n",
    "            dataset.input_extents.contiguous(), dataset.input_gt_boxes.contiguous(),\\\n",
    "            dataset.input_poses.contiguous(), dataset.input_points.contiguous(),\\\n",
    "            dataset.input_symmetry.contiguous())\n",
    "    \n",
    "    return out_prob, out_label, out_vertex, rois, out_pose, out_quaternion\n",
    "\n",
    "def get_depth_rgb_from_render(render_result, num_cameras, width, height):\n",
    "    rgb_output = render_result['rgb']\\\n",
    "        .reshape((num_cameras, width, height, 3)).transpose(1,2).contiguous()\n",
    "    depth_output = render_result['depth']\\\n",
    "        .reshape((num_cameras, width, height, 1)).transpose(1,2).contiguous()\n",
    "    return rgb_output, depth_output\n",
    "\n",
    "def sample_on_cylinder(height_mm=100, radius_mm=33):\n",
    "    samples = []\n",
    "    theta = 0\n",
    "    z_inc = 0.5\n",
    "    z = -height_mm/2\n",
    "    # sample points in cylinder frame\n",
    "    while z < height_mm/2:\n",
    "        while theta < 2 * np.pi:\n",
    "            x = radius_mm * np.cos(theta)\n",
    "            y = radius_mm * np.sin(theta)\n",
    "            point = np.array([x, y, z])\n",
    "            samples.append(point)\n",
    "            theta += np.pi/6\n",
    "        theta = 0\n",
    "        z+=z_inc\n",
    "    return samples\n",
    "\n",
    "def sample_from_voxel_grid(grid):\n",
    "    positive_values = grid.voxels[(grid.voxels[...,-1:].relu() > 0).squeeze()]\n",
    "    return positive_values"
   ]
  },
  {
   "cell_type": "code",
   "execution_count": 9,
   "metadata": {},
   "outputs": [],
   "source": [
    "# select the UVW (*not* s) parameters that correspond to the can's geometry\n",
    "    # get the xyz locations from the Can sampler\n",
    "can_samples = torch.from_numpy(np.array(sample_on_cylinder())).to(cfg.device) / 1000.0 # convert to meters"
   ]
  },
  {
   "cell_type": "code",
   "execution_count": 10,
   "metadata": {},
   "outputs": [],
   "source": [
    "# grab the voxel cache from the architecture\n",
    "uvws_cache = arch.uvws_cache\n",
    "\n",
    "# get a set of zeros that matches the existing voxels size, but minus the sigma values\n",
    "perturb_values = torch.zeros((uvws_cache.voxels.shape[0],\\\n",
    "                              uvws_cache.voxels.shape[1],\\\n",
    "                              uvws_cache.voxels.shape[2],\\\n",
    "                              uvws_cache.voxels.shape[3]-1),\n",
    "                             dtype=uvws_cache.voxels.dtype,\\\n",
    "                             device=cfg.device)\n",
    "\n",
    "original_voxels = uvws_cache.voxels.clone()\n",
    "\n",
    "perturb_values.requires_grad = True\n",
    "\n",
    "params = [perturb_values] #[uvws_cache.voxels]\n",
    "# create optimizer\n",
    "perturb_lambda = 1e-6\n",
    "optimizer = torch.optim.Adam(params, lr=1.5)"
   ]
  },
  {
   "cell_type": "code",
   "execution_count": null,
   "metadata": {},
   "outputs": [],
   "source": [
    "def NerfRenderSegLoss(inferred_probs, gt_mask):\n",
    "    return torch.sum(1.0 - (inferred_probs[0,4] * gt_mask[0])) / torch.sum(gt_seg)"
   ]
  },
  {
   "cell_type": "code",
   "execution_count": null,
   "metadata": {},
   "outputs": [],
   "source": [
    "def getBack(var_grad_fn, level=0):\n",
    "    for _ in range(level):\n",
    "        print(\".\", end = '')\n",
    "    print(var_grad_fn)\n",
    "    for n in var_grad_fn.next_functions:\n",
    "        if n[0]:\n",
    "            try:\n",
    "                tensor = getattr(n[0], 'variable')\n",
    "                print(n[0])\n",
    "                print('Tensor with grad found:', tensor)\n",
    "                print(' - gradient:', tensor.grad)\n",
    "                print()\n",
    "            except AttributeError as e:\n",
    "                getBack(n[0], level+1)"
   ]
  },
  {
   "cell_type": "code",
   "execution_count": null,
   "metadata": {
    "scrolled": false
   },
   "outputs": [],
   "source": [
    "showFigs = False\n",
    "arch.raypicker.num_rays = 12000\n",
    "\n",
    "num_epochs = 1000\n",
    "if showFigs:\n",
    "    fig, axs = plt.subplots(4,2)\n",
    "    \n",
    "for epoch in tqdm(range(num_epochs)):\n",
    "    losses = []\n",
    "    reg_losses = []\n",
    "    seg_losses = []\n",
    "    for batch_ndx, sample in tqdm(enumerate(iter(progNerfDataloader))):\n",
    "        #print(sample.keys())\n",
    "        gt_seg = sample['segmentation'].to(cfg.device)\n",
    "        image_color = sample['image'].to(cfg.device).permute((0,3,1,2)).contiguous()\n",
    "\n",
    "        # get the weighting matrix for sampling pixels\n",
    "        weighting_seg = (gt_seg[0] == 4) * 1.0\n",
    "        weighting_seg = weighting_seg / torch.sum(weighting_seg)\n",
    "        cam_pose = torch.eye(4, device=cfg.device).unsqueeze(0)\n",
    "        ray_origins, ray_dirs, ijs =\\\n",
    "            arch.raypicker.getRays(cam_pose, ray_weights = weighting_seg.repeat(cam_pose.shape[0],1,1))\n",
    "\n",
    "        if showFigs:\n",
    "            axs[0, 0].imshow(sample['image'][0].cpu().numpy())\n",
    "            axs[0, 1].imshow(sample['segmentation'][0].cpu().numpy() == 4)\n",
    "\n",
    "        #print(image_color.shape)\n",
    "        #with torch.no_grad():\n",
    "        #    pcnn_prob, pcnn_label, pcnn_vertex, pcnn_rois, pcnn_pose, pcnn_quaternion =\\\n",
    "        #        run_net(network, dataset, image_color, cfg.device)\n",
    "\n",
    "            #print(pcnn_rois)\n",
    "        #    index = torch.where(pcnn_rois[:, -1] > cfg.TEST.DET_THRESHOLD)[0]\n",
    "            #print(index)\n",
    "        #    if showFigs:\n",
    "        #        axs[1, 0].imshow(pcnn_label.cpu().numpy()[0])\n",
    "        #        axs[1, 1].imshow(pcnn_label.cpu().numpy()[0] == 4)\n",
    "        #    for j in range(pcnn_rois.shape[0]):\n",
    "        #        pcnn_rois[j, 1] = cfg.TRAIN.CLASSES.index(cfg.TEST.CLASSES[int(pcnn_rois[j,1])])\n",
    "\n",
    "        # render arch at pose from sample, but with the FastNeRF voxel values being base + perturbation\n",
    "        sample_pose = torch.linalg.inv(sample['04_pose'])\n",
    "        voxels_iter = original_voxels.detach()\n",
    "        voxels_iter[...,0:-1] += perturb_values\n",
    "        arch.uvws_cache.voxels = voxels_iter\n",
    "        render_result = arch.render(ray_origins, ray_dirs, use_cache = True)\n",
    "\n",
    "        #render_result = arch.doFullRender(sample_pose, use_cache = True)\n",
    "        #render_result['rgb'].requires_grad = True\n",
    "        #render_result['rgb'].retain_grad()\n",
    "        #nerf_rgb, nerf_depth = get_depth_rgb_from_render(render_result, 1, 640, 480)\n",
    "        #nerf_rgb.requires_grad = True\n",
    "        #nerf_rgb.retain_grad()\n",
    "        # overlay the nerf_rgb into the scene\n",
    "        overlayed = image_color.permute(0,2,3,1).clone()\n",
    "        #print(overlayed.shape)\n",
    "        #overlayed[0, (sample['segmentation'][0].cpu().numpy() == 4), ...] =\\\n",
    "            #nerf_rgb[0, (sample['segmentation'][0].cpu().numpy() == 4), ...]\n",
    "\n",
    "        for i in range(render_result['rgb_alpha'][0].shape[0]):\n",
    "            overlayed[0, ijs[0,i,1], ijs[0,i,0], :] = render_result['rgb_alpha'][0,i]\n",
    "            #gt_pixels[i] = gt_pixels[i] + segmented_gt[0, ijs[i,:,1], ijs[i,:,0], :]\n",
    "            #gt_depths[i] = gt_depths[i] + seg_depth_gt[0, ijs[i,:,1], ijs[i,:,0]]\n",
    "\n",
    "        if showFigs:\n",
    "            #axs[2, 0].imshow(nerf_rgb.cpu().detach().numpy()[0])\n",
    "            axs[2, 1].imshow(overlayed.cpu().detach().numpy()[0])\n",
    "\n",
    "        # run poseCNN on the updated scene\n",
    "        overlayed = overlayed.permute(0,3,1,2)\n",
    "\n",
    "        #overlayed.requires_grad = True\n",
    "        #network.requires_grad = True\n",
    "        #overlayed.retain_grad()\n",
    "        pcnn_prob, pcnn_label, pcnn_vertex, pcnn_rois, pcnn_pose, pcnn_quaternion =\\\n",
    "            run_net(network, dataset, overlayed, cfg.device)\n",
    "\n",
    "        if showFigs:\n",
    "            axs[3, 0].imshow(pcnn_label.cpu().numpy()[0])\n",
    "            #axs[3, 1].imshow(pcnn_label.cpu().numpy()[0] == 4)\n",
    "            axs[3, 1].imshow(pcnn_prob[0,4].cpu().detach().numpy())\n",
    "\n",
    "        #print(params[0].grad)\n",
    "        #pcnn_prob.retain_grad()\n",
    "        seg_loss = NerfRenderSegLoss(pcnn_prob, gt_seg == 4)\n",
    "        reg_norm = torch.norm(perturb_values)\n",
    "        loss = perturb_lambda * reg_norm + seg_loss\n",
    "        losses.append(loss.item())\n",
    "        reg_losses.append(reg_norm.item())\n",
    "        seg_losses.append(seg_loss.item())\n",
    "        loss.backward()\n",
    "        #raise Exception(\"asdf\")\n",
    "        tb_writer.add_images(\"overlay/{0}\".format(batch_ndx), overlayed.cpu(), epoch)\n",
    "        can_prob_map = pcnn_prob[0,4].unsqueeze(0).unsqueeze(0)\n",
    "        tb_writer.add_images(\"pcnn_prob/{0}\".format(batch_ndx), can_prob_map.cpu(), epoch)\n",
    "        #print(uvws_cache.voxels.grad.unique())\n",
    "        #print(pcnn_prob.grad.shape)\n",
    "        #print(overlayed.grad.unique())\n",
    "        #print(nerf_rgb.grad.unique())\n",
    "        #print(render_result['rgb'].grad.unique())\n",
    "        #getBack(loss.grad_fn)\n",
    "        #nerf_rgb.grad\n",
    "        optimizer.step()\n",
    "        optimizer.zero_grad()\n",
    "        if showFigs:\n",
    "            raise Exception(\"stopping to print\")\n",
    "    tb_writer.add_scalar('loss', np.array(losses).mean(), epoch)\n",
    "    tb_writer.add_scalar('seg_loss', np.array(seg_losses).mean(), epoch)\n",
    "    tb_writer.add_scalar('reg_norm', np.array(reg_losses).mean(), epoch)\n",
    "    #tqdm.write(str(np.array(losses).mean()))\n",
    "    \n",
    "    \n",
    "    "
   ]
  },
  {
   "cell_type": "code",
   "execution_count": 36,
   "metadata": {
    "scrolled": true
   },
   "outputs": [
    {
     "name": "stderr",
     "output_type": "stream",
     "text": [
      "\r",
      "0it [00:00, ?it/s]"
     ]
    },
    {
     "name": "stdout",
     "output_type": "stream",
     "text": [
      "tensor([[[-0.0612,  0.9908, -0.1209, -0.0306],\n",
      "         [ 0.0611,  0.1246,  0.9903, -0.7308],\n",
      "         [ 0.9963,  0.0532, -0.0681,  0.0533],\n",
      "         [ 0.0000,  0.0000,  0.0000,  1.0000]]])\n"
     ]
    },
    {
     "name": "stderr",
     "output_type": "stream",
     "text": [
      "\r",
      "0it [00:01, ?it/s]"
     ]
    },
    {
     "name": "stdout",
     "output_type": "stream",
     "text": [
      "torch.Size([1, 480, 640, 3])\n"
     ]
    },
    {
     "name": "stderr",
     "output_type": "stream",
     "text": [
      "\n"
     ]
    },
    {
     "ename": "Exception",
     "evalue": "asdf",
     "output_type": "error",
     "traceback": [
      "\u001b[0;31m---------------------------------------------------------------------------\u001b[0m",
      "\u001b[0;31mException\u001b[0m                                 Traceback (most recent call last)",
      "\u001b[0;32m/tmp/ipykernel_83101/3139950300.py\u001b[0m in \u001b[0;36m<module>\u001b[0;34m\u001b[0m\n\u001b[1;32m     12\u001b[0m         \u001b[0mplt\u001b[0m\u001b[0;34m.\u001b[0m\u001b[0maxis\u001b[0m\u001b[0;34m(\u001b[0m\u001b[0;34m'off'\u001b[0m\u001b[0;34m)\u001b[0m\u001b[0;34m\u001b[0m\u001b[0;34m\u001b[0m\u001b[0m\n\u001b[1;32m     13\u001b[0m         \u001b[0mplt\u001b[0m\u001b[0;34m.\u001b[0m\u001b[0mimshow\u001b[0m\u001b[0;34m(\u001b[0m\u001b[0mnerf_rgb\u001b[0m\u001b[0;34m[\u001b[0m\u001b[0;36m0\u001b[0m\u001b[0;34m]\u001b[0m\u001b[0;34m.\u001b[0m\u001b[0mdetach\u001b[0m\u001b[0;34m(\u001b[0m\u001b[0;34m)\u001b[0m\u001b[0;34m.\u001b[0m\u001b[0mcpu\u001b[0m\u001b[0;34m(\u001b[0m\u001b[0;34m)\u001b[0m\u001b[0;34m)\u001b[0m\u001b[0;34m\u001b[0m\u001b[0;34m\u001b[0m\u001b[0m\n\u001b[0;32m---> 14\u001b[0;31m         \u001b[0;32mraise\u001b[0m \u001b[0mException\u001b[0m\u001b[0;34m(\u001b[0m\u001b[0;34m\"asdf\"\u001b[0m\u001b[0;34m)\u001b[0m\u001b[0;34m\u001b[0m\u001b[0;34m\u001b[0m\u001b[0m\n\u001b[0m",
      "\u001b[0;31mException\u001b[0m: asdf"
     ]
    },
    {
     "data": {
      "image/png": "[encoded data removed]",
      "text/plain": [
       "<Figure size 1296x648 with 1 Axes>"
      ]
     },
     "metadata": {
      "needs_background": "light"
     },
     "output_type": "display_data"
    }
   ],
   "source": [
    "with torch.no_grad():\n",
    "    for batch_ndx, sample in tqdm(enumerate(iter(progNerfDataloader))):\n",
    "        #print(sample.keys())\n",
    "        gt_seg = sample['segmentation'].to(cfg.device)\n",
    "        image_color = sample['image'].contiguous()\n",
    "        plt.imshow(image_color[0].cpu())\n",
    "        sample_pose = torch.linalg.inv(sample['04_pose'])\n",
    "        print(sample_pose)\n",
    "        render_result = arch.doFullRender(sample_pose, use_cache=True)\n",
    "        nerf_rgb, nerf_depth = get_depth_rgb_from_render(render_result, 1, 640, 480)\n",
    "        print(nerf_rgb.shape)\n",
    "        plt.axis('off')\n",
    "        plt.imshow(nerf_rgb[0].detach().cpu())\n",
    "        raise Exception(\"asdf\")\n"
   ]
  },
  {
   "cell_type": "code",
   "execution_count": null,
   "metadata": {},
   "outputs": [],
   "source": []
  },
  {
   "cell_type": "code",
   "execution_count": null,
   "metadata": {},
   "outputs": [],
   "source": []
  }
 ],
 "metadata": {
  "kernelspec": {
   "display_name": "Python 3",
   "language": "python",
   "name": "python3"
  },
  "language_info": {
   "codemirror_mode": {
    "name": "ipython",
    "version": 3
   },
   "file_extension": ".py",
   "mimetype": "text/x-python",
   "name": "python",
   "nbconvert_exporter": "python",
   "pygments_lexer": "ipython3",
   "version": "3.8.5"
  }
 },
 "nbformat": 4,
 "nbformat_minor": 5
}
