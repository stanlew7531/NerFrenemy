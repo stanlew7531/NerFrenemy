{
 "cells": [
  {
   "cell_type": "code",
   "execution_count": 190,
   "id": "3d93d2c2",
   "metadata": {
    "scrolled": true
   },
   "outputs": [],
   "source": [
    "%%capture\n",
    "%matplotlib inline\n",
    "import sys\n",
    "sys.path.insert(1, './PoseCNN-PyTorch/lib')\n",
    "from datasets.factory import get_dataset\n",
    "from fcn.config import cfg, cfg_from_file, yaml_from_file, get_output_dir\n",
    "from ycb_renderer import YCBRenderer\n",
    "import torch\n",
    "import numpy as np\n",
    "import torch\n",
    "import torch.nn.parallel \n",
    "import torch.backends.cudnn as cudnn \n",
    "import networks\n",
    "from utils.nms import *\n",
    "import matplotlib.pyplot as plt\n",
    "from utils.blob import pad_im, chromatic_transform, add_noise\n",
    "from transforms3d.quaternions import mat2quat, quat2mat\n",
    "from utils.se3 import *\n",
    "from utils.pose_error import *\n",
    "import yaml\n",
    "import torch\n",
    "import numpy as np\n",
    "import matplotlib.pyplot as plt\n",
    "from scipy.spatial.transform import Rotation as R\n",
    "\n",
    "import ProgressNerf.Dataloading.YCBVideoDataloader\n",
    "# import ProgressNerf.Dataloading.ToolsPartsDataloader\n",
    "\n",
    "import ProgressNerf.Raycasting.VoxelGridBBoxRaysampler\n",
    "import ProgressNerf.Raycasting.RandomRaypicker\n",
    "import ProgressNerf.Raycasting.NearFarRaysampler\n",
    "import ProgressNerf.Raycasting.WeightedRaypicker\n",
    "import ProgressNerf.Raycasting.PerturbedRaysampler\n",
    "\n",
    "import ProgressNerf.NeuralRendering.NeuralRenderer\n",
    "# import ProgressNerf.NeuralRendering.VoxelNeuralRenderer\n",
    "\n",
    "import ProgressNerf.Encoders.PositionalEncoder\n",
    "\n",
    "# import ProgressNerf.Models.OGNerf\n",
    "# from ProgressNerf.Architectures.OGNerfArch import OGNerfArch\n",
    "import ProgressNerf.Models.FastNerf\n",
    "from ProgressNerf.Architectures.VoxelGridCachedNerf import VoxelGridCachedNerf\n",
    "\n",
    "from ProgressNerf.Utils.CameraUtils import BuildCameraMatrix\n",
    "from fcn.train import loss_cross_entropy, smooth_l1_loss"
   ]
  },
  {
   "cell_type": "markdown",
   "id": "e6472768",
   "metadata": {},
   "source": [
    "# Create YCB Renderer"
   ]
  },
  {
   "cell_type": "code",
   "execution_count": 191,
   "id": "ab4cd3a3",
   "metadata": {},
   "outputs": [
    {
     "name": "stdout",
     "output_type": "stream",
     "text": [
      "number of devices found 3\n",
      "Loaded EGL 1.5 after reload.\n"
     ]
    },
    {
     "name": "stderr",
     "output_type": "stream",
     "text": [
      "libEGL warning: DRI2: failed to create dri screen\n",
      "libEGL warning: DRI2: failed to create dri screen\n",
      "Unable to initialize EGL\n"
     ]
    }
   ],
   "source": [
    "%%capture\n",
    "cfg_from_file(\"./PoseCNN-PyTorch/experiments/cfgs/ycb_object.yml\")\n",
    "meta = yaml_from_file(\"./PoseCNN-PyTorch/data/demo/meta.yml\")\n",
    "dataset = get_dataset(\"ycb_object_test\")\n",
    "cfg.renderer = YCBRenderer(width=cfg.TRAIN.SYN_WIDTH, height=cfg.TRAIN.SYN_HEIGHT, gpu_id=0, render_marker=False)"
   ]
  },
  {
   "cell_type": "markdown",
   "id": "d8ff9c55",
   "metadata": {},
   "source": [
    "# Create configuration & load meshes"
   ]
  },
  {
   "cell_type": "code",
   "execution_count": 192,
   "id": "a77b6db3",
   "metadata": {},
   "outputs": [],
   "source": [
    "%%capture\n",
    "if cfg.TEST.SYNTHESIZE:\n",
    "    cfg.renderer.load_objects(dataset.model_mesh_paths, dataset.model_texture_paths, dataset.model_colors)\n",
    "else:\n",
    "    model_mesh_paths = [dataset.model_mesh_paths[i-1] for i in cfg.TEST.CLASSES[1:]]\n",
    "    model_texture_paths = [dataset.model_texture_paths[i-1] for i in cfg.TEST.CLASSES[1:]]\n",
    "    model_colors = [dataset.model_colors[i-1] for i in cfg.TEST.CLASSES[1:]]\n",
    "    cfg.renderer.load_objects(model_mesh_paths, model_texture_paths, model_colors)\n",
    "\n",
    "cfg.renderer.set_camera_default()\n",
    "cfg.TEST.POSE_REFINE = False\n",
    "cfg.TEST.VISUALIZE = False \n",
    "\n",
    "cfg.MODE = 'TRAIN'\n",
    "\n",
    "cfg.gpu_id = 0\n",
    "cfg.device = torch.device('cuda:{:d}'.format(cfg.gpu_id))\n",
    "cfg.instance_id = 0"
   ]
  },
  {
   "cell_type": "markdown",
   "id": "a85c98b3",
   "metadata": {},
   "source": [
    "# Setup Dataloader & Metadata"
   ]
  },
  {
   "cell_type": "code",
   "execution_count": 4,
   "id": "6c9c36ec",
   "metadata": {},
   "outputs": [],
   "source": [
    "worker_init_fn = dataset.worker_init_fn if hasattr(dataset, 'worker_init_fn') else None\n",
    "num_workers = 0 if cfg.TRAIN.SYNTHESIZE else 4\n",
    "dataloader = torch.utils.data.DataLoader(dataset, \n",
    "                    batch_size=1,  #cfg.TRAIN.IMS_PER_BATCH, \n",
    "                    shuffle=True, \n",
    "                    num_workers=num_workers, \n",
    "                    worker_init_fn=worker_init_fn)\n",
    "\n",
    "# Set meta_data \n",
    "K = dataset._intrinsic_matrix\n",
    "K[2, 2] = 1\n",
    "Kinv = np.linalg.pinv(K)\n",
    "meta_data = np.zeros((1, 18), dtype=np.float32)\n",
    "meta_data[0, 0:9] = K.flatten()\n",
    "meta_data[0, 9:18] = Kinv.flatten()\n",
    "meta_data = torch.from_numpy(meta_data).cuda()"
   ]
  },
  {
   "cell_type": "markdown",
   "id": "020cf3b1",
   "metadata": {},
   "source": [
    "# Load PoseCNN Network"
   ]
  },
  {
   "cell_type": "code",
   "execution_count": 5,
   "id": "29c8a3bd",
   "metadata": {},
   "outputs": [],
   "source": [
    "%%capture\n",
    "pretrained = \"./PoseCNN-PyTorch/data/checkpoints/ycb_object/vgg16_ycb_object_self_supervision_epoch_8.checkpoint.pth\"\n",
    "# cfg.TRAIN.FREEZE_LAYERS = False\n",
    "network_data = torch.load(pretrained)\n",
    "network = networks.__dict__[\"posecnn\"](dataset.num_classes, 64, network_data).cuda()\n",
    "network = torch.nn.DataParallel(network, device_ids=[cfg.gpu_id]).cuda()\n",
    "cudnn.benchmark = True\n",
    "network.eval()"
   ]
  },
  {
   "cell_type": "markdown",
   "id": "fbee1821",
   "metadata": {},
   "source": [
    "# Create NeRF Model & Render Test"
   ]
  },
  {
   "cell_type": "code",
   "execution_count": 6,
   "id": "89b06edb",
   "metadata": {},
   "outputs": [],
   "source": [
    "def toSE3Matrix(rotation, offset):\n",
    "    mat = np.eye(4)\n",
    "    if len(rotation) == 4:\n",
    "        mat[0:3,0:3] = R.from_quat(np.concatenate((rotation[1:4], [rotation[0]]))).as_matrix()\n",
    "    elif len(rotation.shape) == 2:\n",
    "        mat[0:3,0:3] = rotation\n",
    "    mat[0:3,3] = np.array(offset)\n",
    "    return mat"
   ]
  },
  {
   "cell_type": "code",
   "execution_count": 199,
   "id": "9bd0c3f8",
   "metadata": {},
   "outputs": [],
   "source": [
    "# NOTE: Testing tools for visualizing the nerf rendering.\n",
    "\n",
    "def get_test_pose():    # TODO: remove\n",
    "    offset = np.array([0.052757302998853915, -0.2394366825095671, 1.5026748131467889])\n",
    "    quat = np.array([0.28405447470305767, 0.7107763388551345, 0.5857394722169705, -0.26649450690745147])\n",
    "    return toSE3Matrix(quat, offset)\n",
    "\n",
    "# from transforms3d.quaternions import axangle2quat\n",
    "# def get_test_pose():    # TODO: remove\n",
    "#     quat = axangle2quat([0.0, 1, 0.0], np.pi/4) # axangle2quat([1, 0, 0], np.pi)\n",
    "#     offset = np.array([0.0, 0.0, 0.30])\n",
    "#     return toSE3Matrix(quat, offset)"
   ]
  },
  {
   "cell_type": "code",
   "execution_count": 200,
   "id": "b5dafbd8",
   "metadata": {},
   "outputs": [
    {
     "name": "stdout",
     "output_type": "stream",
     "text": [
      "loading config at ./ycbVideo_Soup.yml\n",
      "parsing config\n",
      "initializing optimizer\n",
      "loading model  & optimizer params from /home/baldeeb/Documents/Projects/NerFrenemy/data/soup_can_eval/epoch_200\n",
      "resuming training from epoch 201...\n"
     ]
    }
   ],
   "source": [
    "config_file = \"./ycbVideo_Soup.yml\"\n",
    "arch = VoxelGridCachedNerf(config_file)\n",
    "test_pose = get_test_pose()\n",
    "test_pose = np.linalg.inv(test_pose)\n",
    "test_pose = torch.Tensor(test_pose).unsqueeze(0)"
   ]
  },
  {
   "cell_type": "code",
   "execution_count": 201,
   "id": "2685fc5b",
   "metadata": {},
   "outputs": [
    {
     "data": {
      "text/plain": [
       "<matplotlib.image.AxesImage at 0x7f934caec310>"
      ]
     },
     "execution_count": 201,
     "metadata": {},
     "output_type": "execute_result"
    },
    {
     "data": {
      "image/png": "[encoded data removed]",
      "text/plain": [
       "<Figure size 432x288 with 1 Axes>"
      ]
     },
     "metadata": {
      "needs_background": "light"
     },
     "output_type": "display_data"
    }
   ],
   "source": [
    "renderings = arch.doFullRender(test_pose, use_cache=True)\n",
    "nerf_rgb = renderings['rgb'].contiguous().reshape((1, 640, 480, 3)).transpose(1,2).contiguous()\n",
    "plt.imshow(nerf_rgb.cpu().squeeze().numpy())"
   ]
  },
  {
   "cell_type": "markdown",
   "id": "0ad0477b",
   "metadata": {},
   "source": [
    "# Run PoseCNN"
   ]
  },
  {
   "cell_type": "code",
   "execution_count": 202,
   "id": "eab58f1d",
   "metadata": {},
   "outputs": [],
   "source": [
    "def run_net(network, inputs, sample, meta_data, dataset):\n",
    "    # prepare data\n",
    "    inputs.cuda()\n",
    "    # inputs = sample['image_color'].cuda()\n",
    "    im_info = sample['im_info']\n",
    "    mask = sample['mask'].cuda()\n",
    "    labels = sample['label'].cuda()\n",
    "    meta_data = sample['meta_data'].cuda()\n",
    "    extents = sample['extents'][0, :, :].repeat(cfg.TRAIN.GPUNUM, 1, 1).cuda()\n",
    "    gt_boxes = sample['gt_boxes'].cuda()\n",
    "    poses = sample['poses'].cuda()\n",
    "    points = sample['points'][0, :, :, :].repeat(cfg.TRAIN.GPUNUM, 1, 1, 1).cuda()\n",
    "    symmetry = sample['symmetry'][0, :].repeat(cfg.TRAIN.GPUNUM, 1).cuda()\n",
    "    if cfg.TRAIN.VERTEX_REG:\n",
    "        vertex_targets = sample['vertex_targets'].cuda()\n",
    "        vertex_weights = sample['vertex_weights'].cuda()\n",
    "    else:\n",
    "        vertex_targets = []\n",
    "        vertex_weights = []\n",
    "    return network(inputs, labels, meta_data, extents, gt_boxes, poses, points, symmetry)"
   ]
  },
  {
   "cell_type": "code",
   "execution_count": 203,
   "id": "ef90b931",
   "metadata": {},
   "outputs": [],
   "source": [
    "def get_loss(network_results):\n",
    "    # compute output\n",
    "    if cfg.TRAIN.VERTEX_REG:\n",
    "        if cfg.TRAIN.POSE_REG:\n",
    "            out_logsoftmax, out_weight, out_vertex, out_logsoftmax_box, \\\n",
    "                bbox_labels, bbox_pred, bbox_targets, bbox_inside_weights, loss_pose_tensor, poses_weight \\\n",
    "                = network_results\n",
    "\n",
    "            loss_label = loss_cross_entropy(out_logsoftmax, out_weight)\n",
    "            loss_vertex = cfg.TRAIN.VERTEX_W * smooth_l1_loss(out_vertex, vertex_targets, vertex_weights)\n",
    "            loss_box = loss_cross_entropy(out_logsoftmax_box, bbox_labels)\n",
    "            loss_location = smooth_l1_loss(bbox_pred, bbox_targets, bbox_inside_weights)\n",
    "            loss_pose = torch.mean(loss_pose_tensor)\n",
    "            loss = loss_label + loss_vertex + loss_box + loss_location + loss_pose\n",
    "        else:\n",
    "            out_logsoftmax, out_weight, out_vertex, out_logsoftmax_box, \\\n",
    "                bbox_labels, bbox_pred, bbox_targets, bbox_inside_weights \\\n",
    "                = network_results\n",
    "\n",
    "            loss_label = loss_cross_entropy(out_logsoftmax, out_weight)\n",
    "            loss_vertex = cfg.TRAIN.VERTEX_W * smooth_l1_loss(out_vertex, vertex_targets, vertex_weights)\n",
    "            loss_box = loss_cross_entropy(out_logsoftmax_box, bbox_labels)\n",
    "            loss_location = smooth_l1_loss(bbox_pred, bbox_targets, bbox_inside_weights)\n",
    "            loss = loss_label + loss_vertex + loss_box + loss_location\n",
    "    else:\n",
    "        out_logsoftmax, out_weight = network_results\n",
    "        loss = loss_cross_entropy(out_logsoftmax, out_weight)\n",
    "    return loss"
   ]
  },
  {
   "cell_type": "code",
   "execution_count": 204,
   "id": "df8ea7ef",
   "metadata": {},
   "outputs": [
    {
     "name": "stderr",
     "output_type": "stream",
     "text": [
      "/home/baldeeb/anaconda3/envs/nerf/lib/python3.7/site-packages/torch/nn/functional.py:3635: UserWarning: Default upsampling behavior when mode=bilinear is changed to align_corners=False since 0.4.0. Please specify align_corners=True if the old behavior is desired. See the documentation of nn.Upsample for details.\n",
      "  \"See the documentation of nn.Upsample for details.\".format(mode)\n",
      "Clipping input data to the valid range for imshow with RGB data ([0..1] for floats or [0..255] for integers).\n"
     ]
    },
    {
     "name": "stdout",
     "output_type": "stream",
     "text": [
      "diff:   tensor(142271.8438, device='cuda:0', grad_fn=<SumBackward0>)\n"
     ]
    },
    {
     "data": {
      "image/png": "[encoded data removed]",
      "text/plain": [
       "<Figure size 432x288 with 2 Axes>"
      ]
     },
     "metadata": {
      "needs_background": "light"
     },
     "output_type": "display_data"
    },
    {
     "name": "stdout",
     "output_type": "stream",
     "text": [
      "HALT\n"
     ]
    }
   ],
   "source": [
    "inputs = nerf_rgb.permute(0, 3, 1, 2).contiguous()\n",
    "ycb_datapoint = next(iter(dataloader))\n",
    "\n",
    "with torch.enable_grad():\n",
    "    network.eval()\n",
    "    initial_inputs = inputs.clone().detach()\n",
    "    optimizer = torch.optim.Adam([inputs])\n",
    "    optimizer.zero_grad()\n",
    "    inputs.requires_grad=True\n",
    "    network_results = run_net(network, inputs, ycb_datapoint, meta_data, dataset)\n",
    "    pred_quaterion = network_results[-1]\n",
    "    \n",
    "    # NOTE: This is obviously just to prove gradients flow.  \n",
    "    pred_quaterion.sum().backward()\n",
    "    for i in range(1000): optimizer.step()   \n",
    "\n",
    "    # Visualize\n",
    "    fig, axs = plt.subplots(1,2)\n",
    "    axs[0].imshow(((inputs+1.0)/2).squeeze().permute(1, 2, 0).detach().cpu().numpy())\n",
    "    axs[1].imshow(((initial_inputs+1.0)/2).squeeze().permute(1, 2, 0).detach().cpu().numpy())\n",
    "    print(\"diff:  \", (initial_inputs - inputs).abs().sum())\n",
    "    plt.show()\n",
    "    print(\"HALT\")"
   ]
  },
  {
   "cell_type": "markdown",
   "id": "6cd1a188",
   "metadata": {},
   "source": [
    "# Merge Nerf and YCB renderings"
   ]
  },
  {
   "cell_type": "code",
   "execution_count": 208,
   "id": "efb92b57",
   "metadata": {},
   "outputs": [
    {
     "name": "stderr",
     "output_type": "stream",
     "text": [
      "Clipping input data to the valid range for imshow with RGB data ([0..1] for floats or [0..255] for integers).\n",
      "Clipping input data to the valid range for imshow with RGB data ([0..1] for floats or [0..255] for integers).\n"
     ]
    },
    {
     "data": {
      "text/plain": [
       "<matplotlib.image.AxesImage at 0x7f934f570050>"
      ]
     },
     "execution_count": 208,
     "metadata": {},
     "output_type": "execute_result"
    },
    {
     "data": {
      "image/png": "[encoded data removed]",
      "text/plain": [
       "<Figure size 432x288 with 1 Axes>"
      ]
     },
     "metadata": {
      "needs_background": "light"
     },
     "output_type": "display_data"
    },
    {
     "data": {
      "image/png": "[encoded data removed]",
      "text/plain": [
       "<Figure size 432x288 with 1 Axes>"
      ]
     },
     "metadata": {
      "needs_background": "light"
     },
     "output_type": "display_data"
    }
   ],
   "source": [
    "\n",
    "## Get YCB image with soup can \n",
    "ycb_datapoint = next(iter(dataloader))\n",
    "can_id = 4\n",
    "while(all(ycb_datapoint['poses'][0, :, 1] != can_id)): \n",
    "    ycb_datapoint = next(iter(dataloader))\n",
    "ycb_img = ycb_datapoint['image_color']  #.clone().detach().cpu().permute(1,2,0).numpy()\n",
    "\n",
    "## Find soup can pose and mask\n",
    "can_indices = (ycb_datapoint['poses'][0, :, 1] == 4).nonzero(as_tuple=True)\n",
    "can_index = can_indices[0]\n",
    "can_mask = ycb_datapoint['label'][0, can_index].int()\n",
    "can_pose = ycb_datapoint['poses'][0, can_index].squeeze()\n",
    "# NOTE: pose: [0]->existence | [1]->class-id | [2:6]->quaternion | [6:9]->offset\n",
    "can_rot = quat2mat(can_pose[2:6].flatten()) \n",
    "can_trans = can_pose[6:]\n",
    "\n",
    "## Extract & apply nerf pose\n",
    "render_pose = toSE3Matrix(can_rot, can_trans)\n",
    "render_pose = np.array([[1, 0, 0, 0],[0, -1, 0, 0], [0, 0, -1, 0], [0, 0, 0, 1]]) @ np.linalg.inv(render_pose)\n",
    "# from transforms3d.quaternions import mat2quat, quat2axangle\n",
    "# print(quat2axangle(mat2quat(render_pose[0:3, 0:3])))\n",
    "render_pose = torch.Tensor(render_pose).unsqueeze(0)\n",
    "renderings = arch.doFullRender(render_pose, use_cache=True)\n",
    "nerf_rgb = renderings['rgb'].contiguous().reshape((1, 640, 480, 3)).transpose(1,2).contiguous()\n",
    "\n",
    "## Visualize\n",
    "plt.imshow(((ycb_img+0.5)).squeeze().permute(1, 2, 0)[:, :, (2, 1, 0)].detach().cpu().numpy())\n",
    "plt.figure()\n",
    "plt.imshow(nerf_rgb.cpu().squeeze().numpy())\n",
    "\n",
    "# TODO: select relevant pixels and replace them in ycb image.\n",
    "# TODO: display image.\n",
    "# TODO: apply random loss and run gradient through merged image."
   ]
  },
  {
   "cell_type": "code",
   "execution_count": null,
   "id": "3bdb3d59",
   "metadata": {},
   "outputs": [],
   "source": []
  },
  {
   "cell_type": "code",
   "execution_count": null,
   "id": "53cf44bf",
   "metadata": {},
   "outputs": [],
   "source": []
  }
 ],
 "metadata": {
  "interpreter": {
   "hash": "cece0d70d95327288284f8d7bd96ebbc4de6300ab866dd54c23881e8bd78da1b"
  },
  "kernelspec": {
   "display_name": "Python 3.7.13 ('nerf')",
   "language": "python",
   "name": "python3"
  },
  "language_info": {
   "codemirror_mode": {
    "name": "ipython",
    "version": 3
   },
   "file_extension": ".py",
   "mimetype": "text/x-python",
   "name": "python",
   "nbconvert_exporter": "python",
   "pygments_lexer": "ipython3",
   "version": "3.7.13"
  }
 },
 "nbformat": 4,
 "nbformat_minor": 5
}
